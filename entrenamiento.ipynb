{
 "cells": [
  {
   "cell_type": "code",
   "execution_count": 7,
   "metadata": {},
   "outputs": [],
   "source": [
    "from gensim.models import Word2Vec\n",
    "\n",
    "from gensim.models.word2vec import LineSentence\n",
    "\n",
    "import re"
   ]
  },
  {
   "cell_type": "code",
   "execution_count": 8,
   "metadata": {},
   "outputs": [
    {
     "name": "stdout",
     "output_type": "stream",
     "text": [
      "Requirement already satisfied: wikipedia-api in c:\\users\\marce\\appdata\\local\\programs\\python\\python312\\lib\\site-packages (0.8.1)\n",
      "Requirement already satisfied: requests in c:\\users\\marce\\appdata\\local\\programs\\python\\python312\\lib\\site-packages (from wikipedia-api) (2.32.3)\n",
      "Requirement already satisfied: charset-normalizer<4,>=2 in c:\\users\\marce\\appdata\\local\\programs\\python\\python312\\lib\\site-packages (from requests->wikipedia-api) (3.4.1)\n",
      "Requirement already satisfied: idna<4,>=2.5 in c:\\users\\marce\\appdata\\local\\programs\\python\\python312\\lib\\site-packages (from requests->wikipedia-api) (3.10)\n",
      "Requirement already satisfied: urllib3<3,>=1.21.1 in c:\\users\\marce\\appdata\\local\\programs\\python\\python312\\lib\\site-packages (from requests->wikipedia-api) (2.3.0)\n",
      "Requirement already satisfied: certifi>=2017.4.17 in c:\\users\\marce\\appdata\\local\\programs\\python\\python312\\lib\\site-packages (from requests->wikipedia-api) (2025.1.31)\n"
     ]
    },
    {
     "name": "stderr",
     "output_type": "stream",
     "text": [
      "\n",
      "[notice] A new release of pip is available: 25.0.1 -> 25.1.1\n",
      "[notice] To update, run: python.exe -m pip install --upgrade pip\n"
     ]
    }
   ],
   "source": [
    "!pip install wikipedia-api\n",
    "\n",
    "\n"
   ]
  },
  {
   "cell_type": "code",
   "execution_count": 9,
   "metadata": {},
   "outputs": [],
   "source": [
    "import wikipediaapi\n",
    "\n",
    "user_agent = \"MiProyectoFutbol/1.0 (contacto: elenaperez03m@gmail.com)\"\n",
    "wiki = wikipediaapi.Wikipedia(user_agent=user_agent, language=\"es\")\n",
    "\n",
    "paginas = [\n",
    "    \"Fútbol\", \"Copa Mundial de Fútbol\", \"LaLiga\", \"Premier League\",\n",
    "    \"Champions League\", \"Lionel Messi\", \"Cristiano Ronaldo\"\n",
    "]\n",
    "\n",
    "corpus = \"\"\n",
    "\n",
    "for pagina in paginas:\n",
    "    page = wiki.page(pagina)\n",
    "    if page.exists():\n",
    "        corpus += page.text + \"\\n\\n\"  \n",
    "\n",
    "\n"
   ]
  },
  {
   "cell_type": "code",
   "execution_count": 10,
   "metadata": {},
   "outputs": [],
   "source": [
    "sentences = re.split(r'[.!?]', corpus)  # Separar en oraciones\n",
    "corpus = [re.findall(r'\\b\\w+\\b', sentence.lower()) for sentence in sentences if sentence.strip()]\n"
   ]
  },
  {
   "cell_type": "code",
   "execution_count": 11,
   "metadata": {},
   "outputs": [],
   "source": [
    "sg_params = {\n",
    "          'vector_size' : 100,\n",
    "          'window' : 5,\n",
    "          'min_count' : 5,\n",
    "          'sg' : 1,\n",
    "          'hs' : 0,\n",
    "          'negative' : 20,\n",
    "          'compute_loss': True,\n",
    "}\n",
    "\n",
    "cbow_params = {\n",
    "          'vector_size' : 100,\n",
    "          'window' : 2,\n",
    "          'min_count' : 5,\n",
    "          'sg' : 0,\n",
    "          'hs' : 0,\n",
    "          'negative' : 20,\n",
    "          'compute_loss': True,\n",
    "}\n",
    "#Skip Gram\n",
    "w2v_sg = Word2Vec(** sg_params)\n",
    "#CBOW\n",
    "w2v_cbow = Word2Vec(** cbow_params)\n",
    "# Entrenamiento\n",
    "w2v_sg.build_vocab(corpus)\n",
    "w2v_cbow.build_vocab(corpus)\n",
    "\n",
    "\n",
    "w2v_sg.train(corpus, total_examples=w2v_sg.corpus_count, epochs=5)\n",
    "w2v_cbow.train(corpus, total_examples=w2v_cbow.corpus_count, epochs=5)\n",
    "\n",
    "\n",
    "w2v_sg.save('./w2v_sg_d100_mc5_w5.pkl')   # d=dimension, mc=min_count, w=window\n",
    "w2v_cbow.save('./w2v_cbow_d100_mc5_w2.pkl')"
   ]
  },
  {
   "cell_type": "code",
   "execution_count": 12,
   "metadata": {},
   "outputs": [
    {
     "data": {
      "text/plain": [
       "[('13', 0.9990289211273193),\n",
       " ('celebrada', 0.9989962577819824),\n",
       " ('portugal', 0.9989461898803711),\n",
       " ('francia', 0.9989251494407654),\n",
       " ('tanda', 0.9988811016082764),\n",
       " ('ida', 0.9988773465156555),\n",
       " ('penaltis', 0.9988508224487305),\n",
       " ('eliminatoria', 0.9988504648208618),\n",
       " ('semifinales', 0.9988499283790588),\n",
       " ('suiza', 0.9988283514976501)]"
      ]
     },
     "execution_count": 12,
     "metadata": {},
     "output_type": "execute_result"
    }
   ],
   "source": [
    "w2v_cbow.wv.most_similar(\"españa\")"
   ]
  },
  {
   "cell_type": "code",
   "execution_count": 42,
   "metadata": {},
   "outputs": [
    {
     "data": {
      "text/plain": [
       "[('madrid', 0.9558368921279907),\n",
       " ('atlético', 0.9437264204025269),\n",
       " ('c', 0.903626561164856),\n",
       " ('arsenal', 0.8986669778823853),\n",
       " ('athletic', 0.8883079290390015),\n",
       " ('chelsea', 0.8818196654319763),\n",
       " ('bayern', 0.8774158954620361),\n",
       " ('city', 0.8735710978507996),\n",
       " ('f', 0.867600679397583),\n",
       " ('emblema', 0.8626668453216553)]"
      ]
     },
     "execution_count": 42,
     "metadata": {},
     "output_type": "execute_result"
    }
   ],
   "source": [
    "w2v_sg.wv.most_similar(\"real\")"
   ]
  },
  {
   "cell_type": "code",
   "execution_count": 14,
   "metadata": {},
   "outputs": [],
   "source": [
    "sg_params = {\n",
    "          'vector_size' : 300,\n",
    "          'window' : 5,\n",
    "          'min_count' : 2,\n",
    "          'sg' : 1,\n",
    "          'hs' : 0,\n",
    "          'negative' : 20,\n",
    "          'compute_loss': True,\n",
    "}\n",
    "\n",
    "cbow_params = {\n",
    "          'vector_size' : 300,\n",
    "          'window' : 10,\n",
    "          'min_count' : 5,\n",
    "          'sg' : 0,\n",
    "          'hs' : 0,\n",
    "          'negative' : 20,\n",
    "          'compute_loss': True,\n",
    "}\n",
    "#Skip Gram\n",
    "w2v_sg = Word2Vec(** sg_params)\n",
    "#CBOW\n",
    "w2v_cbow = Word2Vec(** cbow_params)\n",
    "# Entrenamiento\n",
    "w2v_sg.build_vocab(corpus)\n",
    "w2v_cbow.build_vocab(corpus)\n",
    "\n",
    "\n",
    "w2v_sg.train(corpus, total_examples=w2v_sg.corpus_count, epochs=5)\n",
    "w2v_cbow.train(corpus, total_examples=w2v_cbow.corpus_count, epochs=5)\n",
    "\n",
    "\n",
    "w2v_sg.save('./w2v_sg_d300_mc2_w5.pkl')   # d=dimension, mc=min_count, w=window\n",
    "w2v_cbow.save('./w2v_cbow_d300_mc5_w10.pkl')"
   ]
  },
  {
   "cell_type": "code",
   "execution_count": 15,
   "metadata": {},
   "outputs": [
    {
     "data": {
      "text/plain": [
       "[('oro', 0.9477055668830872),\n",
       " ('premio', 0.9355930089950562),\n",
       " ('argentino', 0.866786539554596),\n",
       " ('recibió', 0.8581168055534363),\n",
       " ('entregado', 0.8567665219306946),\n",
       " ('portugués', 0.8539156317710876),\n",
       " ('bota', 0.8538699746131897),\n",
       " ('año', 0.8518428206443787),\n",
       " ('deporte', 0.8488255739212036),\n",
       " ('puskás', 0.8477292656898499)]"
      ]
     },
     "execution_count": 15,
     "metadata": {},
     "output_type": "execute_result"
    }
   ],
   "source": [
    "w2v_sg.wv.most_similar(\"balón\")"
   ]
  },
  {
   "cell_type": "code",
   "execution_count": 41,
   "metadata": {},
   "outputs": [
    {
     "name": "stdout",
     "output_type": "stream",
     "text": [
      "Analogía: cristiano - gol + messi = tiro (Similitud: 0.88)\n"
     ]
    },
    {
     "data": {
      "text/plain": [
       "'tiro'"
      ]
     },
     "execution_count": 41,
     "metadata": {},
     "output_type": "execute_result"
    }
   ],
   "source": [
    "model = Word2Vec.load(\"w2v_sg_d100_mc5_w5.pkl\") \n",
    "\n",
    "def resolver_analogia(palabra1, palabra2, palabra3, modelo):\n",
    "    try:\n",
    "        resultado = modelo.wv.most_similar(positive=[palabra3, palabra2], negative=[palabra1], topn=1)\n",
    "        palabra4, similitud = resultado[0]\n",
    "        print(f\"Analogía: {palabra1} - {palabra2} + {palabra3} = {palabra4} (Similitud: {similitud:.2f})\")\n",
    "        return palabra4\n",
    "    except KeyError as e:\n",
    "        print(f\"¡Error! Palabra no encontrada en el vocabulario: {e}\")\n",
    "        return None\n",
    "\n",
    "# Ejemplo de uso:\n",
    "resolver_analogia(\"cristiano\", \"gol\", \"messi\", model)"
   ]
  }
 ],
 "metadata": {
  "kernelspec": {
   "display_name": "Python 3",
   "language": "python",
   "name": "python3"
  },
  "language_info": {
   "codemirror_mode": {
    "name": "ipython",
    "version": 3
   },
   "file_extension": ".py",
   "mimetype": "text/x-python",
   "name": "python",
   "nbconvert_exporter": "python",
   "pygments_lexer": "ipython3",
   "version": "3.12.6"
  }
 },
 "nbformat": 4,
 "nbformat_minor": 2
}
