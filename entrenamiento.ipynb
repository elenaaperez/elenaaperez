{
 "cells": [
  {
   "cell_type": "code",
   "execution_count": 1,
   "metadata": {},
   "outputs": [],
   "source": [
    "from gensim.models import Word2Vec\n",
    "\n",
    "from gensim.models.word2vec import LineSentence\n",
    "\n",
    "import re"
   ]
  },
  {
   "cell_type": "code",
   "execution_count": 2,
   "metadata": {},
   "outputs": [
    {
     "name": "stdout",
     "output_type": "stream",
     "text": [
      "Requirement already satisfied: wikipedia-api in c:\\users\\marce\\appdata\\local\\programs\\python\\python312\\lib\\site-packages (0.8.1)\n",
      "Requirement already satisfied: requests in c:\\users\\marce\\appdata\\local\\programs\\python\\python312\\lib\\site-packages (from wikipedia-api) (2.32.3)\n",
      "Requirement already satisfied: charset-normalizer<4,>=2 in c:\\users\\marce\\appdata\\local\\programs\\python\\python312\\lib\\site-packages (from requests->wikipedia-api) (3.4.1)\n",
      "Requirement already satisfied: idna<4,>=2.5 in c:\\users\\marce\\appdata\\local\\programs\\python\\python312\\lib\\site-packages (from requests->wikipedia-api) (3.10)\n",
      "Requirement already satisfied: urllib3<3,>=1.21.1 in c:\\users\\marce\\appdata\\local\\programs\\python\\python312\\lib\\site-packages (from requests->wikipedia-api) (2.3.0)\n",
      "Requirement already satisfied: certifi>=2017.4.17 in c:\\users\\marce\\appdata\\local\\programs\\python\\python312\\lib\\site-packages (from requests->wikipedia-api) (2025.1.31)\n"
     ]
    },
    {
     "name": "stderr",
     "output_type": "stream",
     "text": [
      "\n",
      "[notice] A new release of pip is available: 25.0.1 -> 25.1.1\n",
      "[notice] To update, run: python.exe -m pip install --upgrade pip\n"
     ]
    }
   ],
   "source": [
    "!pip install wikipedia-api\n",
    "\n",
    "\n"
   ]
  },
  {
   "cell_type": "code",
   "execution_count": 3,
   "metadata": {},
   "outputs": [],
   "source": [
    "import wikipediaapi\n",
    "\n",
    "user_agent = \"MiProyectoFutbol/1.0 (contacto: elenaperez03m@gmail.com)\"\n",
    "wiki = wikipediaapi.Wikipedia(user_agent=user_agent, language=\"es\")\n",
    "\n",
    "paginas = [\n",
    "    \"Fútbol\", \"Copa Mundial de Fútbol\", \"LaLiga\", \"Premier League\",\n",
    "    \"Champions League\", \"Lionel Messi\", \"Cristiano Ronaldo\"\n",
    "]\n",
    "\n",
    "corpus = \"\"\n",
    "\n",
    "for pagina in paginas:\n",
    "    page = wiki.page(pagina)\n",
    "    if page.exists():\n",
    "        corpus += page.text + \"\\n\\n\"  \n",
    "\n",
    "\n"
   ]
  },
  {
   "cell_type": "code",
   "execution_count": 4,
   "metadata": {},
   "outputs": [],
   "source": [
    "sentences = re.split(r'[.!?]', corpus)  # Separar en oraciones\n",
    "corpus = [re.findall(r'\\b\\w+\\b', sentence.lower()) for sentence in sentences if sentence.strip()]\n"
   ]
  },
  {
   "cell_type": "code",
   "execution_count": 5,
   "metadata": {},
   "outputs": [],
   "source": [
    "sg_params = {\n",
    "          'vector_size' : 100,\n",
    "          'window' : 5,\n",
    "          'min_count' : 5,\n",
    "          'sg' : 1,\n",
    "          'hs' : 0,\n",
    "          'negative' : 20,\n",
    "          'compute_loss': True,\n",
    "}\n",
    "\n",
    "cbow_params = {\n",
    "          'vector_size' : 100,\n",
    "          'window' : 2,\n",
    "          'min_count' : 5,\n",
    "          'sg' : 0,\n",
    "          'hs' : 0,\n",
    "          'negative' : 20,\n",
    "          'compute_loss': True,\n",
    "}\n",
    "#Skip Gram\n",
    "w2v_sg = Word2Vec(** sg_params)\n",
    "#CBOW\n",
    "w2v_cbow = Word2Vec(** cbow_params)\n",
    "# Entrenamiento\n",
    "w2v_sg.build_vocab(corpus)\n",
    "w2v_cbow.build_vocab(corpus)\n",
    "\n",
    "\n",
    "w2v_sg.train(corpus, total_examples=w2v_sg.corpus_count, epochs=5)\n",
    "w2v_cbow.train(corpus, total_examples=w2v_cbow.corpus_count, epochs=5)\n",
    "\n",
    "\n",
    "w2v_sg.save('./w2v_sg_d100_mc5_w5.pkl')   # d=dimension, mc=min_count, w=window\n",
    "w2v_cbow.save('./w2v_cbow_d100_mc5_w2.pkl')"
   ]
  },
  {
   "cell_type": "code",
   "execution_count": 6,
   "metadata": {},
   "outputs": [
    {
     "data": {
      "text/plain": [
       "[('francia', 0.9991345405578613),\n",
       " ('eliminatoria', 0.9991200566291809),\n",
       " ('luego', 0.9991028308868408),\n",
       " ('13', 0.9990901350975037),\n",
       " ('ganar', 0.9990490674972534),\n",
       " ('eliminado', 0.9989923238754272),\n",
       " ('italia', 0.9989854693412781),\n",
       " ('2005', 0.9989602565765381),\n",
       " ('regular', 0.9989568591117859),\n",
       " ('semifinales', 0.9989373087882996)]"
      ]
     },
     "execution_count": 6,
     "metadata": {},
     "output_type": "execute_result"
    }
   ],
   "source": [
    "w2v_cbow.wv.most_similar(\"españa\")"
   ]
  },
  {
   "cell_type": "code",
   "execution_count": 7,
   "metadata": {},
   "outputs": [
    {
     "data": {
      "text/plain": [
       "[('atlético', 0.9090341925621033),\n",
       " ('madrid', 0.8887456059455872),\n",
       " ('c', 0.8650548458099365),\n",
       " ('bayern', 0.8320356011390686),\n",
       " ('f', 0.8313485383987427),\n",
       " ('athletic', 0.8258876204490662),\n",
       " ('emblema', 0.8183780312538147),\n",
       " ('arsenal', 0.8107661604881287),\n",
       " ('vencedor', 0.8099111914634705),\n",
       " ('milan', 0.8074014186859131)]"
      ]
     },
     "execution_count": 7,
     "metadata": {},
     "output_type": "execute_result"
    }
   ],
   "source": [
    "w2v_sg.wv.most_similar(\"real\")"
   ]
  },
  {
   "cell_type": "code",
   "execution_count": 8,
   "metadata": {},
   "outputs": [],
   "source": [
    "sg_params = {\n",
    "          'vector_size' : 300,\n",
    "          'window' : 5,\n",
    "          'min_count' : 2,\n",
    "          'sg' : 1,\n",
    "          'hs' : 0,\n",
    "          'negative' : 20,\n",
    "          'compute_loss': True,\n",
    "}\n",
    "\n",
    "cbow_params = {\n",
    "          'vector_size' : 300,\n",
    "          'window' : 10,\n",
    "          'min_count' : 5,\n",
    "          'sg' : 0,\n",
    "          'hs' : 0,\n",
    "          'negative' : 20,\n",
    "          'compute_loss': True,\n",
    "}\n",
    "#Skip Gram\n",
    "w2v_sg = Word2Vec(** sg_params)\n",
    "#CBOW\n",
    "w2v_cbow = Word2Vec(** cbow_params)\n",
    "# Entrenamiento\n",
    "w2v_sg.build_vocab(corpus)\n",
    "w2v_cbow.build_vocab(corpus)\n",
    "\n",
    "\n",
    "w2v_sg.train(corpus, total_examples=w2v_sg.corpus_count, epochs=5)\n",
    "w2v_cbow.train(corpus, total_examples=w2v_cbow.corpus_count, epochs=5)\n",
    "\n",
    "\n",
    "w2v_sg.save('./w2v_sg_d300_mc2_w5.pkl')   # d=dimension, mc=min_count, w=window\n",
    "w2v_cbow.save('./w2v_cbow_d300_mc5_w10.pkl')"
   ]
  },
  {
   "cell_type": "code",
   "execution_count": 9,
   "metadata": {},
   "outputs": [
    {
     "data": {
      "text/plain": [
       "[('oro', 0.9563212990760803),\n",
       " ('premio', 0.9506630897521973),\n",
       " ('entregado', 0.8872762322425842),\n",
       " ('año', 0.8828414678573608),\n",
       " ('joven', 0.8792556524276733),\n",
       " ('fifa', 0.8665082454681396),\n",
       " ('mejor', 0.8625184893608093),\n",
       " ('recibió', 0.8615821003913879),\n",
       " ('argentino', 0.8589410781860352),\n",
       " ('bota', 0.8573614358901978)]"
      ]
     },
     "execution_count": 9,
     "metadata": {},
     "output_type": "execute_result"
    }
   ],
   "source": [
    "w2v_sg.wv.most_similar(\"balón\")"
   ]
  },
  {
   "cell_type": "code",
   "execution_count": 12,
   "metadata": {},
   "outputs": [
    {
     "data": {
      "text/plain": [
       "[('real', 0.9470176696777344),\n",
       " ('atlético', 0.9330642819404602),\n",
       " ('athletic', 0.8994981050491333),\n",
       " ('arsenal', 0.8963778018951416),\n",
       " ('chelsea', 0.8900335431098938),\n",
       " ('c', 0.8796308636665344),\n",
       " ('bayern', 0.8757897615432739),\n",
       " ('city', 0.866104781627655),\n",
       " ('vencer', 0.8627716302871704),\n",
       " ('emblema', 0.8617000579833984)]"
      ]
     },
     "execution_count": 12,
     "metadata": {},
     "output_type": "execute_result"
    }
   ],
   "source": [
    "w2v_sg.wv.most_similar(\"madrid\")"
   ]
  },
  {
   "cell_type": "code",
   "execution_count": 23,
   "metadata": {},
   "outputs": [
    {
     "name": "stdout",
     "output_type": "stream",
     "text": [
      "Analogía: fútbol - portero + gol = marcó (Similitud: 0.90)\n"
     ]
    },
    {
     "data": {
      "text/plain": [
       "'marcó'"
      ]
     },
     "execution_count": 23,
     "metadata": {},
     "output_type": "execute_result"
    }
   ],
   "source": [
    "model = Word2Vec.load(\"w2v_sg_d100_mc5_w5.pkl\") \n",
    "\n",
    "def resolver_analogia(palabra1, palabra2, palabra3, modelo):\n",
    "    try:\n",
    "        resultado = modelo.wv.most_similar(positive=[palabra3, palabra2], negative=[palabra1], topn=1)\n",
    "        palabra4, similitud = resultado[0]\n",
    "        print(f\"Analogía: {palabra1} - {palabra2} + {palabra3} = {palabra4} (Similitud: {similitud:.2f})\")\n",
    "        return palabra4\n",
    "    except KeyError as e:\n",
    "        print(f\"¡Error! Palabra no encontrada en el vocabulario: {e}\")\n",
    "        return None\n",
    "\n",
    "# Ejemplo de uso:\n",
    "resolver_analogia(\"fútbol\", \"portero\", \"gol\", model)"
   ]
  },
  {
   "cell_type": "code",
   "execution_count": 29,
   "metadata": {},
   "outputs": [
    {
     "name": "stdout",
     "output_type": "stream",
     "text": [
      "Requirement already satisfied: matplotlib in c:\\users\\marce\\appdata\\local\\programs\\python\\python312\\lib\\site-packages (3.10.3)\n",
      "Requirement already satisfied: contourpy>=1.0.1 in c:\\users\\marce\\appdata\\local\\programs\\python\\python312\\lib\\site-packages (from matplotlib) (1.3.2)\n",
      "Requirement already satisfied: cycler>=0.10 in c:\\users\\marce\\appdata\\local\\programs\\python\\python312\\lib\\site-packages (from matplotlib) (0.12.1)\n",
      "Requirement already satisfied: fonttools>=4.22.0 in c:\\users\\marce\\appdata\\local\\programs\\python\\python312\\lib\\site-packages (from matplotlib) (4.58.4)\n",
      "Requirement already satisfied: kiwisolver>=1.3.1 in c:\\users\\marce\\appdata\\local\\programs\\python\\python312\\lib\\site-packages (from matplotlib) (1.4.8)\n",
      "Requirement already satisfied: numpy>=1.23 in c:\\users\\marce\\appdata\\local\\programs\\python\\python312\\lib\\site-packages (from matplotlib) (1.26.4)\n",
      "Requirement already satisfied: packaging>=20.0 in c:\\users\\marce\\appdata\\roaming\\python\\python312\\site-packages (from matplotlib) (24.2)\n",
      "Requirement already satisfied: pillow>=8 in c:\\users\\marce\\appdata\\local\\programs\\python\\python312\\lib\\site-packages (from matplotlib) (11.2.1)\n",
      "Requirement already satisfied: pyparsing>=2.3.1 in c:\\users\\marce\\appdata\\local\\programs\\python\\python312\\lib\\site-packages (from matplotlib) (3.2.3)\n",
      "Requirement already satisfied: python-dateutil>=2.7 in c:\\users\\marce\\appdata\\roaming\\python\\python312\\site-packages (from matplotlib) (2.9.0.post0)\n",
      "Requirement already satisfied: six>=1.5 in c:\\users\\marce\\appdata\\roaming\\python\\python312\\site-packages (from python-dateutil>=2.7->matplotlib) (1.17.0)\n"
     ]
    },
    {
     "name": "stderr",
     "output_type": "stream",
     "text": [
      "\n",
      "[notice] A new release of pip is available: 25.0.1 -> 25.1.1\n",
      "[notice] To update, run: python.exe -m pip install --upgrade pip\n"
     ]
    },
    {
     "name": "stdout",
     "output_type": "stream",
     "text": [
      "Requirement already satisfied: scikit-learn in c:\\users\\marce\\appdata\\local\\programs\\python\\python312\\lib\\site-packages (1.7.0)\n",
      "Requirement already satisfied: numpy>=1.22.0 in c:\\users\\marce\\appdata\\local\\programs\\python\\python312\\lib\\site-packages (from scikit-learn) (1.26.4)\n",
      "Requirement already satisfied: scipy>=1.8.0 in c:\\users\\marce\\appdata\\local\\programs\\python\\python312\\lib\\site-packages (from scikit-learn) (1.13.1)\n",
      "Requirement already satisfied: joblib>=1.2.0 in c:\\users\\marce\\appdata\\local\\programs\\python\\python312\\lib\\site-packages (from scikit-learn) (1.4.2)\n",
      "Requirement already satisfied: threadpoolctl>=3.1.0 in c:\\users\\marce\\appdata\\local\\programs\\python\\python312\\lib\\site-packages (from scikit-learn) (3.6.0)\n"
     ]
    },
    {
     "name": "stderr",
     "output_type": "stream",
     "text": [
      "\n",
      "[notice] A new release of pip is available: 25.0.1 -> 25.1.1\n",
      "[notice] To update, run: python.exe -m pip install --upgrade pip\n"
     ]
    },
    {
     "data": {
      "image/png": "[encoded data removed]",
      "text/plain": [
       "<Figure size 1000x800 with 1 Axes>"
      ]
     },
     "metadata": {},
     "output_type": "display_data"
    }
   ],
   "source": [
    "!pip install matplotlib\n",
    "!pip install scikit-learn\n",
    "import matplotlib.pyplot as plt\n",
    "import numpy as np\n",
    "from sklearn.manifold import TSNE\n",
    "from gensim.models import Word2Vec\n",
    "\n",
    "# 1. Cargar modelo entrenado\n",
    "model = Word2Vec.load(\"w2v_sg_d100_mc5_w5.pkl\")  \n",
    "\n",
    "# 2. Seleccionar palabras a visualizar\n",
    "palabras = [\"balón\", \"gol\", \"portero\", \"delantero\", \"falta\", \n",
    "            \"árbitro\", \"penalti\", \"campo\", \"esquina\", \"tarjeta\"]\n",
    "\n",
    "# 3. Extraer vectores y filtrar palabras existentes\n",
    "vectors = []\n",
    "labels = []\n",
    "for word in palabras:\n",
    "    if word in model.wv:\n",
    "        vectors.append(model.wv[word])\n",
    "        labels.append(word)\n",
    "\n",
    "# 4. Reducir a 2D con t-SNE\n",
    "tsne = TSNE(n_components=2, random_state=42, perplexity=3)\n",
    "vectors_2d = tsne.fit_transform(np.array(vectors))\n",
    "\n",
    "# 5. Graficar\n",
    "plt.figure(figsize=(10, 8))\n",
    "plt.scatter(vectors_2d[:, 0], vectors_2d[:, 1], alpha=0.5)\n",
    "\n",
    "# Añadir etiquetas\n",
    "for i, label in enumerate(labels):\n",
    "    plt.annotate(label, (vectors_2d[i, 0], vectors_2d[i, 1]))\n",
    "\n",
    "plt.title(\"Visualización de Embeddings Futbolísticos (t-SNE)\")\n",
    "plt.grid()\n",
    "plt.show()"
   ]
  }
 ],
 "metadata": {
  "kernelspec": {
   "display_name": "Python 3",
   "language": "python",
   "name": "python3"
  },
  "language_info": {
   "codemirror_mode": {
    "name": "ipython",
    "version": 3
   },
   "file_extension": ".py",
   "mimetype": "text/x-python",
   "name": "python",
   "nbconvert_exporter": "python",
   "pygments_lexer": "ipython3",
   "version": "3.12.6"
  }
 },
 "nbformat": 4,
 "nbformat_minor": 2
}
